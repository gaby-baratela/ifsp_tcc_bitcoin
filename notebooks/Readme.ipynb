{
 "cells": [
  {
   "cell_type": "markdown",
   "id": "1d52a48a",
   "metadata": {},
   "source": [
    "# Previsão de Preço de Fechamento do Bitcoin"
   ]
  },
  {
   "cell_type": "markdown",
   "id": "5d0fb687",
   "metadata": {},
   "source": [
    "## Aluna:\n",
    "- Gabrielly Baratela de Carvalho (CP3016331)"
   ]
  },
  {
   "cell_type": "markdown",
   "id": "eeca3280-e553-4031-bd4d-b5fdb668b879",
   "metadata": {},
   "source": [
    "# Sumário:\n",
    "1. [Motivação](#ancora1)\n",
    "2. [Definição do Problema e Infraestrutura](#ancora2)\n",
    "3. [Coleta de dados](#ancora3)\n",
    "4. [Análise exploratória](#ancora4)\n",
    "5. [Modelagem](#ancora5)\n",
    "6. [Discussão de Resultados e Melhorias](#ancora6)"
   ]
  },
  {
   "cell_type": "markdown",
   "id": "c4dfc11c",
   "metadata": {},
   "source": [
    "### 1. Motivação<a id=\"ancora1\"></a>\n",
    "\n",
    "As criptomoedas são moedas digitais que vêm a cada dia mais consolidando sua posição no mercado, tendo atualmente **mais de 843 bilhões de dólares investidos** (4,5 trilhões de reais), e mais de 20 mil diferentes opções de criptomoedas no mercado mundial. Elas podem vir a substituir, mesmo que parcialmente, o que consideramos como \"dinheiro\" atualmente, servindo como reserva de valor - preservando o patrimônio e o poder de compra do indivíduo; meio de troca - facilitando as transações comerciais e com redução de taxas; unidade de conta - parâmetro para precificação de produtos. \n",
    "\n",
    "O surgimento e a ascensão das moedas digitais se deu devido ao desejo de privacidade dos dados transacionais e a descentralização de informações, através do **blockchain**. No Blockchain múltiplos servidores armazenam registros particionados das transações, garantindo maior segurança e privacidade dos dados.\n",
    "\n",
    "A **Bitcoin** é a principal criptomoeda, e vem sendo cada dia mais reconhecida mundialmente, aparecendo em manchetes de vários jornais, por já vir sendo utilizada como forma de pagamento por algumas empresas e até para salários de jogadores de futebol. Seu crescimento maior aconteceu principalmente após 2017, 9 anos após seu lançamento, e fatos relevantes serão estudados na análise exploratória, para entendimento de eventos que podem ter impactado a série.\n",
    "\n",
    "Dada a importância desse mercado na economia atual, a motivação do estudo é entender como se comporta o preço do Bitcoin ao longo do tempo e se é possível realizar sua predição, para que haja maior confiança na aquisição das moedas e diminuição do risco de prejuízo."
   ]
  },
  {
   "cell_type": "markdown",
   "id": "cba44144-f49f-4b8f-bf2a-415c47dc61ca",
   "metadata": {},
   "source": [
    "### 2. Definição do problema e Infraestrutura<a id=\"ancora2\"></a>"
   ]
  },
  {
   "cell_type": "markdown",
   "id": "4d9755f1-3e85-441e-ae15-ada884b3043c",
   "metadata": {},
   "source": [
    "- **Objetivo:** Previsão do preço de fechamento ajustado do bitcoin nos próximos 5 dias\n",
    "- **Periodicidade**: Diária"
   ]
  },
  {
   "cell_type": "markdown",
   "id": "581f16b9-874c-443e-8ed6-46f9f545fff9",
   "metadata": {},
   "source": [
    "##### **Setup de infraestrutura:**\n",
    "\n",
    "- Workflow de arquitetura [(Ilustração)](https://github.com/gaby-baratela/ifsp_s2_bitcoin/blob/cbe47e342c3c7ab67e5d9629c3a7add43ae20f2e/Imagens/Infraestrutura.png)\n",
    "- Configurações de ambiente:\n",
    "    - Permissões/roles: no ambiente learner lab não é possível configurar permissões e usuários, portanto foi utilizada a credencial padrão de aluno.\n",
    "    - Sagemaker [(Foto da configuração)](https://github.com/gaby-baratela/ifsp_s2_bitcoin/blob/97ce612542b03ce645676d8bfe89add27e1de2aa/Imagens/Configura%C3%A7%C3%B5es%20Sagemaker.png): O sagemaker foi configurado com a máquina ml.t3.medium, que contém 2 CPUs , 0 GPU e 4 GB de memória RAM. A plataforma escolhida foi Amazon Linux 2 - JupyterLab 3, devido à compatibilidade com bibliotecas e scripts, ele foi conectado ao github e não foi definida nenhuma configuração personalizada de rede. No sagemaker, a opção de Kernel é `conda_tensorflow2_p38`\n",
    "    - S3 [(Foto da estrutura)](https://github.com/gaby-baratela/ifsp_s2_bitcoin/blob/97ce612542b03ce645676d8bfe89add27e1de2aa/Imagens/Estrutura%20S3.png): No S3 foi criado o bucket `projetointerdisciplinars2`, público, sem criptografia e com as configurações padrão da nuvem. Ele foi dividido entre as pastas `data/`, para armazenamento de dados, e `models/`, para armazenamento dos modelos treinados.  "
   ]
  },
  {
   "cell_type": "markdown",
   "id": "2dd7e5f0",
   "metadata": {},
   "source": [
    "### 3. Coleta de dados<a id=\"ancora3\"></a>"
   ]
  },
  {
   "cell_type": "markdown",
   "id": "030c1fe6-fa0f-408f-b4cf-a5a4b3bddb05",
   "metadata": {},
   "source": [
    "**[Link do notebook](https://github.com/gaby-baratela/ifsp_s2_bitcoin/blob/cbe47e342c3c7ab67e5d9629c3a7add43ae20f2e/1_Coleta_de_dados.ipynb)**\n",
    "\n",
    "Para entender como o bitcoin se comporta ao longo do tempo e realizar a predição de preços, é necessário, pelo menos, de sua série histórica diária. Além disso, alguns fatores podem influenciar no preço da criptomoeda e explicar sua variação, portanto serão estudados como potenciais covariáveis para o modelo.\n",
    "\n",
    "Os dados foram coletados de diversas fontes via API, incluindo Yahoo Finance, NASDAQ Data, Google (pytrends). O período selecionado para análise foi dos últimos 5 anos, pois mesmo que as fontes forneçam ainda mais histórico caso haja necessidade, como a granularidade é diária, o período é suficiente para obtenção de muito insumo.\n"
   ]
  },
  {
   "cell_type": "markdown",
   "id": "71c8a5a9-8b6e-43a0-93b6-be0605fac170",
   "metadata": {},
   "source": [
    "### 4. Análise Exploratória<a id=\"ancora4\"></a>"
   ]
  },
  {
   "cell_type": "markdown",
   "id": "f5d19f76",
   "metadata": {},
   "source": [
    "Para conhecer melhor os dados, foi criado um notebook com análise exploratória \n",
    "**[neste link](https://github.com/gaby-baratela/ifsp_s2_bitcoin/blob/cbe47e342c3c7ab67e5d9629c3a7add43ae20f2e/2_Conhecendo_os_dados.ipynb)**.\n",
    "\n",
    "Além disso, foi realizada uma análise extra sobre os dados de pesquisas sobre o assunto Bitcoin no google, que está **[neste notebook](https://github.com/gaby-baratela/ifsp_s2_bitcoin/blob/cbe47e342c3c7ab67e5d9629c3a7add43ae20f2e/3_Exploratoria_extra_pytrends_interesse_x_tempo_bitcoin.ipynb).**"
   ]
  },
  {
   "cell_type": "markdown",
   "id": "5f7d5bc0-42a7-4621-b6af-6b9dbdeb379e",
   "metadata": {},
   "source": [
    "### 5. Modelagem<a id=\"ancora5\"></a>"
   ]
  },
  {
   "cell_type": "markdown",
   "id": "27601888-df01-4ae0-a44d-067520de7884",
   "metadata": {},
   "source": [
    "A modelagem foi realizada [por esse notebook](https://github.com/gaby-baratela/ifsp_s2_bitcoin/blob/cbe47e342c3c7ab67e5d9629c3a7add43ae20f2e/4_Modelagem_bitcoin.ipynb). \n",
    "\n",
    "Os modelos foram: ARIMA, LR, MLP, XGB e RF. Apesar de modelos de machine learning serem usualmente mais robustos e completos, o modelo ARIMA se saiu melhor. A acurácia do período analisada é boa, porém quando se olha a longo prazo o modelo se comporta de forma flat, o que é esperado dado seu ajuste para período curto."
   ]
  },
  {
   "cell_type": "markdown",
   "id": "051ff36c-3efb-40ac-8bd9-d23f6e9297f8",
   "metadata": {
    "tags": []
   },
   "source": [
    "### 6. Discussão de Resultados e Melhorias<a id=\"ancora6\"></a>"
   ]
  },
  {
   "cell_type": "markdown",
   "id": "8ae55383-a068-40de-9110-afbd5aa19b46",
   "metadata": {},
   "source": [
    "Como melhorias deste trabalho, pretendo desenvolver a modelagem em um horizonte maior, ajustando o modelo para tal; modelagem de redes neurais recorrentes, para que seja possível modelar a dependência temporal; uso de outras covariáveis que impactam no preço de fechamento ajustado da Bitcoin, a maior criptomoeda do mundo."
   ]
  }
 ],
 "metadata": {
  "kernelspec": {
   "display_name": "conda_python3",
   "language": "python",
   "name": "conda_python3"
  },
  "language_info": {
   "codemirror_mode": {
    "name": "ipython",
    "version": 3
   },
   "file_extension": ".py",
   "mimetype": "text/x-python",
   "name": "python",
   "nbconvert_exporter": "python",
   "pygments_lexer": "ipython3",
   "version": "3.8.12"
  }
 },
 "nbformat": 4,
 "nbformat_minor": 5
}
