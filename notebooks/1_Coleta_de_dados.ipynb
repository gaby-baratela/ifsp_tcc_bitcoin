{
 "cells": [
  {
   "cell_type": "markdown",
   "metadata": {},
   "source": [
    "# Coleta de dados"
   ]
  },
  {
   "cell_type": "markdown",
   "metadata": {},
   "source": [
    "Para entender como o bitcoin se comporta ao longo do tempo e realizar a predição de preços, é necessário, pelo menos, de sua série histórica diária. Além disso, alguns fatores podem influenciar no preço da criptomoeda e explicar sua variação, portanto serão estudados como potenciais covariáveis para o modelo."
   ]
  },
  {
   "cell_type": "markdown",
   "metadata": {},
   "source": [
    "## Sumário do notebook:\n",
    "\n",
    "1. Definição do ambiente </br>\n",
    "    1.1. Bibliotecas </br>\n",
    "    1.2. Variáveis Globais </br>\n",
    "    1.3. Funções Úteis </br>\n",
    "\n",
    "2. Coleta dos dados</br>\n",
    "    2.1. Bitcoin - Yahoo</br>\n",
    "    2.2. Outras Criptomoedas + índices Americanos - Yahoo</br>\n",
    "    2.3. Interesse no Tempo - Pytrends</br>\n",
    "    2.4. Hash Rate - NASDA</br>\n",
    "\n",
    "3. Unificação das bases</br>\n",
    "    3.1. Formato de coluna</br>\n",
    "    3.2. Correção de datas ausente</br>\n",
    "    3.3. Salvamento da base no S3</br>"
   ]
  },
  {
   "cell_type": "markdown",
   "metadata": {},
   "source": [
    "-----------\n",
    "\n",
    "## 1. Definição do ambiente"
   ]
  },
  {
   "cell_type": "markdown",
   "metadata": {},
   "source": [
    "### Bibliotecas"
   ]
  },
  {
   "cell_type": "code",
   "execution_count": null,
   "metadata": {},
   "outputs": [],
   "source": [
    "%%capture \n",
    "\n",
    "!pip install pandas_datareader\n",
    "!pip install pytrends\n",
    "!pip install nasdaq-data-link\n",
    "!pip install fundingrate"
   ]
  },
  {
   "cell_type": "code",
   "execution_count": 2,
   "metadata": {
    "ExecuteTime": {
     "end_time": "2022-06-06T00:01:43.228673Z",
     "start_time": "2022-06-06T00:01:38.256294Z"
    },
    "id": "qGT5x1n7WVWR",
    "tags": []
   },
   "outputs": [],
   "source": [
    "import pandas as pd\n",
    "import numpy as np\n",
    "\n",
    "import datetime as dt\n",
    "from dateutil.relativedelta import *\n",
    "\n",
    "import pandas_datareader.data as web\n",
    "from pytrends.request import TrendReq\n",
    "import nasdaqdatalink\n",
    "from fundingrate import funding_dydx"
   ]
  },
  {
   "cell_type": "code",
   "execution_count": 3,
   "metadata": {
    "ExecuteTime": {
     "end_time": "2022-06-06T00:01:43.244342Z",
     "start_time": "2022-06-06T00:01:43.230176Z"
    },
    "id": "1rU5T-kiWm6o"
   },
   "outputs": [],
   "source": [
    "pd.set_option('display.max_columns', 200)\n",
    "pd.set_option('display.max_rows', 500)\n",
    "pd.set_option('display.min_rows', 500)\n",
    "pd.set_option('display.expand_frame_repr', True)\n",
    "# warnings.simplefilter(action='ignore', category=FutureWarning)"
   ]
  },
  {
   "cell_type": "markdown",
   "metadata": {},
   "source": [
    "### Variáveis globais"
   ]
  },
  {
   "cell_type": "code",
   "execution_count": 4,
   "metadata": {
    "ExecuteTime": {
     "end_time": "2022-06-06T00:01:43.260270Z",
     "start_time": "2022-06-06T00:01:43.248286Z"
    },
    "id": "cQOPQO91r9F6"
   },
   "outputs": [],
   "source": [
    "#@title parâmetros de formatação dos gráficos {display-mode: \"form\"}\n",
    "plotly_kwargs = dict(\n",
    "    title_x=0.5,\n",
    "    autosize=False,\n",
    "    plot_bgcolor='white',\n",
    "    margin=dict(l=2, r=10, t=30, b=2),\n",
    "    width=1000,\n",
    "    height=500,\n",
    "    hovermode='x unified',\n",
    "    xaxis=dict(\n",
    "        showline=True,\n",
    "        showgrid=False,\n",
    "        showticklabels=True,\n",
    "        linecolor='rgb(204, 204, 204)',\n",
    "        linewidth=2,\n",
    "        ticks='outside',\n",
    "        tickfont=dict(\n",
    "            family='Arial',\n",
    "            size=12,\n",
    "            color='rgb(82, 82, 82)',\n",
    "        ),\n",
    "    )\n",
    ")"
   ]
  },
  {
   "cell_type": "code",
   "execution_count": 5,
   "metadata": {
    "ExecuteTime": {
     "end_time": "2022-06-06T00:01:43.276227Z",
     "start_time": "2022-06-06T00:01:43.262265Z"
    }
   },
   "outputs": [],
   "source": [
    "cores_tema = {\n",
    "   'verde_claro': '#8DD8D3',\n",
    "   'verde_escuro': '#599191', \n",
    "   'azul_petroleo': '#0B6374',\n",
    "   'cinza_escuro': '#424242',\n",
    "   'azul_bic': '#27278B', \n",
    "    'azul':'#1b86b9',\n",
    "   'laranja': '#C0791B',  \n",
    "   'vermelho': '#FD5B58', \n",
    "   'rosa': '#D558AB',\n",
    "   'amarelado': '#D7E6A3'\n",
    "}"
   ]
  },
  {
   "cell_type": "code",
   "execution_count": 6,
   "metadata": {
    "ExecuteTime": {
     "end_time": "2022-06-06T00:01:43.291953Z",
     "start_time": "2022-06-06T00:01:43.278222Z"
    }
   },
   "outputs": [],
   "source": [
    "dt_fim = pd.to_datetime('2022-11-17')\n",
    "periodo = pd.to_datetime([dt_fim + relativedelta(years=-5), dt_fim])"
   ]
  },
  {
   "cell_type": "markdown",
   "metadata": {
    "id": "bo-6NLRmqixk"
   },
   "source": [
    "### Funções úteis"
   ]
  },
  {
   "cell_type": "code",
   "execution_count": 7,
   "metadata": {
    "ExecuteTime": {
     "end_time": "2022-06-06T00:01:43.317944Z",
     "start_time": "2022-06-06T00:01:43.293998Z"
    },
    "id": "Eu5uDs_fqlmb"
   },
   "outputs": [],
   "source": [
    "def create_corr_plot(series, nlags=None, plot_pacf=False):\n",
    "    corr_array = pacf(series.dropna(), nlags=nlags, alpha=0.05) if plot_pacf else acf(series.dropna(), nlags=nlags, alpha=0.05)\n",
    "    lower_y = corr_array[1][:,0] - corr_array[0]\n",
    "    upper_y = corr_array[1][:,1] - corr_array[0]\n",
    "\n",
    "    fig = go.Figure()\n",
    "    [fig.add_scatter(x=(x,x), y=(0,corr_array[0][x]), mode='lines',line_color='#3f3f3f') \n",
    "     for x in range(len(corr_array[0]))]\n",
    "    fig.add_scatter(x=np.arange(len(corr_array[0])), y=corr_array[0], mode='markers', marker_color='#1f77b4',\n",
    "                   marker_size=12)\n",
    "    fig.add_scatter(x=np.arange(len(corr_array[0])), y=upper_y, mode='lines', line_color='rgba(255,255,255,0)')\n",
    "    fig.add_scatter(x=np.arange(len(corr_array[0])), y=lower_y, mode='lines',fillcolor='rgba(32, 146, 230,0.3)',\n",
    "            fill='tonexty', line_color='rgba(255,255,255,0)')\n",
    "    fig.update_traces(showlegend=False)\n",
    "    fig.update_xaxes(range=[-1,42])\n",
    "    fig.update_yaxes(zerolinecolor='#000000')\n",
    "    \n",
    "    title='Partial Autocorrelation (PACF)' if plot_pacf else 'Autocorrelation (ACF)'\n",
    "    fig.update_layout(title=title, **plotly_kwargs)\n",
    "    \n",
    "    return fig"
   ]
  },
  {
   "cell_type": "markdown",
   "metadata": {
    "id": "JxaEEIq7Wg0j"
   },
   "source": [
    "-----------\n",
    "\n",
    "## 2. Coleta dos dados"
   ]
  },
  {
   "cell_type": "markdown",
   "metadata": {},
   "source": [
    "**Bases de dados históricas:**\n",
    "\n",
    "As bases de dados históricas contém registros por data\n",
    "\n",
    "- `BTC - Bitcoin`: essa é a base principal, que contém o histórico de preços da criptomoeda BTC ao longo do tempo e também o volume de transações.\n",
    "- `Tether`: preço da Tether (USDT), a maior stablecoin do universo dos ativos digitais, com alta capitalização de mercado - maior do que a grande maioria das criptomoedas.\n",
    "- `Ether`: preço da Ether (ETH), nome dado ao token nativo do blockchain Ethereum e a segunda maior criptomoeda do mundo em valor de mercado.\n",
    "- `NDXT`: índice NDXT — que reúne as 100 maiores empresas de tecnologia listada na Nasdaq.\n",
    "- `SP500`: S&P 500, abreviação de Standard & Poor's 500, é um índice composto por quinhentos ativos cotados nas bolsas de NYSE ou NASDAQ, qualificados devido ao seu tamanho de mercado, sua liquidez e sua representação de grupo industrial.\n",
    "- `USD`: preço do dólar (referente ao real) no período analisado.\n",
    "- `Pytrends - btc_iot`: interesse relativo de pesquisas sobre o termo bitcoin no google ao longo do tempo \n",
    "- `Hash Rate`: medida usada para calcular a velocidade de resolução de um código da blockchain. O hashrate pode indicar queda na mineração ou fraqueza no mercado, causando pressão descendente no preço\n"
   ]
  },
  {
   "cell_type": "markdown",
   "metadata": {},
   "source": [
    "**Variável Target:**\n",
    "\n",
    "Como queremos predizer o preço de fechamento ajustado da bitcoin, nossa _variável target_ é `Adj Close`, da base BTC. A nomenclatura da variável será alterada para `btc`."
   ]
  },
  {
   "cell_type": "markdown",
   "metadata": {
    "id": "4yv66OJhghDb"
   },
   "source": [
    "**Dicionário das colunas**:\n",
    "\n",
    "As bases btc, tether, ether, ndxt e sp500, são extraídas da mesma fonte e possuem as mesmas colunas, descritas abaixo:\n",
    "1. `Date`: É a a coluna de index, que representa a data associada ao preço daquele registro.\n",
    "2. `Close`: O preço de fechamento da BTC no respectivo dia, ou sejam o último preço no qual a BTC foi vendida naquele dia.\n",
    "3. `Open`: O preço de abertura da BTC no respectivo dia, ou sejam o primeiro preço no qual a BTC foi vendida naquele dia.\n",
    "4. `High`: O maior preço que a BTC foi vendida no respectivo dia.\n",
    "5. `Low`:  O menor preço que a BTC foi vendida no respectivo dia.\n",
    "6. `Volume`: O número de transações totais naquele dia.\n",
    "7. `Adj Close`: O preço de fechamento ajustado por dividendos e desdobramentos de ações.\n",
    "\n",
    "A coluna `Adj Close`, representando o preço de fechameto ajustado, será a coluna priorizada para todas as variáveis. \n",
    "\n",
    "As demais bases de dados contém somente uma coluna referente à informação descrita no tópico de \"bases de dados históricas\", portanto, não serão repetidos aqui."
   ]
  },
  {
   "cell_type": "markdown",
   "metadata": {
    "ExecuteTime": {
     "end_time": "2022-06-05T12:58:39.962454Z",
     "start_time": "2022-06-05T12:58:39.755465Z"
    },
    "tags": []
   },
   "source": [
    "### 2.1. Bitcoin - Yahoo"
   ]
  },
  {
   "cell_type": "code",
   "execution_count": 8,
   "metadata": {
    "ExecuteTime": {
     "end_time": "2022-06-06T00:01:44.652440Z",
     "start_time": "2022-06-06T00:01:43.319102Z"
    },
    "id": "7_UBaCxDWh8O"
   },
   "outputs": [],
   "source": [
    "btc = web.DataReader('BTC-USD', data_source='yahoo', start=periodo[0], end=periodo[1])\n",
    "\n",
    "# Ajustando nomes das colunas\n",
    "btc.columns = ['btc_' + c.lower() for c in btc.columns]\n",
    "btc = btc.rename(columns={'btc_adj close':'btc'})"
   ]
  },
  {
   "cell_type": "code",
   "execution_count": 9,
   "metadata": {},
   "outputs": [
    {
     "data": {
      "text/plain": [
       "(1828, 6)"
      ]
     },
     "execution_count": 9,
     "metadata": {},
     "output_type": "execute_result"
    }
   ],
   "source": [
    "btc.shape"
   ]
  },
  {
   "cell_type": "code",
   "execution_count": 10,
   "metadata": {},
   "outputs": [
    {
     "data": {
      "text/html": [
       "<div>\n",
       "<style scoped>\n",
       "    .dataframe tbody tr th:only-of-type {\n",
       "        vertical-align: middle;\n",
       "    }\n",
       "\n",
       "    .dataframe tbody tr th {\n",
       "        vertical-align: top;\n",
       "    }\n",
       "\n",
       "    .dataframe thead th {\n",
       "        text-align: right;\n",
       "    }\n",
       "</style>\n",
       "<table border=\"1\" class=\"dataframe\">\n",
       "  <thead>\n",
       "    <tr style=\"text-align: right;\">\n",
       "      <th></th>\n",
       "      <th>btc_high</th>\n",
       "      <th>btc_low</th>\n",
       "      <th>btc_open</th>\n",
       "      <th>btc_close</th>\n",
       "      <th>btc_volume</th>\n",
       "      <th>btc</th>\n",
       "    </tr>\n",
       "    <tr>\n",
       "      <th>Date</th>\n",
       "      <th></th>\n",
       "      <th></th>\n",
       "      <th></th>\n",
       "      <th></th>\n",
       "      <th></th>\n",
       "      <th></th>\n",
       "    </tr>\n",
       "  </thead>\n",
       "  <tbody>\n",
       "    <tr>\n",
       "      <th>2017-11-17</th>\n",
       "      <td>8004.589844</td>\n",
       "      <td>7561.089844</td>\n",
       "      <td>7853.569824</td>\n",
       "      <td>7708.990234</td>\n",
       "      <td>4651670016</td>\n",
       "      <td>7708.990234</td>\n",
       "    </tr>\n",
       "    <tr>\n",
       "      <th>2017-11-18</th>\n",
       "      <td>7884.990234</td>\n",
       "      <td>7463.439941</td>\n",
       "      <td>7697.209961</td>\n",
       "      <td>7790.149902</td>\n",
       "      <td>3667190016</td>\n",
       "      <td>7790.149902</td>\n",
       "    </tr>\n",
       "    <tr>\n",
       "      <th>2017-11-19</th>\n",
       "      <td>8101.910156</td>\n",
       "      <td>7694.100098</td>\n",
       "      <td>7766.029785</td>\n",
       "      <td>8036.490234</td>\n",
       "      <td>3149319936</td>\n",
       "      <td>8036.490234</td>\n",
       "    </tr>\n",
       "  </tbody>\n",
       "</table>\n",
       "</div>"
      ],
      "text/plain": [
       "               btc_high      btc_low     btc_open    btc_close  btc_volume  \\\n",
       "Date                                                                         \n",
       "2017-11-17  8004.589844  7561.089844  7853.569824  7708.990234  4651670016   \n",
       "2017-11-18  7884.990234  7463.439941  7697.209961  7790.149902  3667190016   \n",
       "2017-11-19  8101.910156  7694.100098  7766.029785  8036.490234  3149319936   \n",
       "\n",
       "                    btc  \n",
       "Date                     \n",
       "2017-11-17  7708.990234  \n",
       "2017-11-18  7790.149902  \n",
       "2017-11-19  8036.490234  "
      ]
     },
     "execution_count": 10,
     "metadata": {},
     "output_type": "execute_result"
    }
   ],
   "source": [
    "btc.head(3)"
   ]
  },
  {
   "cell_type": "code",
   "execution_count": 11,
   "metadata": {
    "ExecuteTime": {
     "end_time": "2022-06-06T00:01:44.689263Z",
     "start_time": "2022-06-06T00:01:44.653515Z"
    },
    "colab": {
     "base_uri": "https://localhost:8080/",
     "height": 238
    },
    "id": "icfpzYYRfhcM",
    "outputId": "429d0f7c-de48-40a5-bbe3-832ec722f0ae"
   },
   "outputs": [
    {
     "data": {
      "text/html": [
       "<div>\n",
       "<style scoped>\n",
       "    .dataframe tbody tr th:only-of-type {\n",
       "        vertical-align: middle;\n",
       "    }\n",
       "\n",
       "    .dataframe tbody tr th {\n",
       "        vertical-align: top;\n",
       "    }\n",
       "\n",
       "    .dataframe thead th {\n",
       "        text-align: right;\n",
       "    }\n",
       "</style>\n",
       "<table border=\"1\" class=\"dataframe\">\n",
       "  <thead>\n",
       "    <tr style=\"text-align: right;\">\n",
       "      <th></th>\n",
       "      <th>btc_high</th>\n",
       "      <th>btc_low</th>\n",
       "      <th>btc_open</th>\n",
       "      <th>btc_close</th>\n",
       "      <th>btc_volume</th>\n",
       "      <th>btc</th>\n",
       "    </tr>\n",
       "    <tr>\n",
       "      <th>Date</th>\n",
       "      <th></th>\n",
       "      <th></th>\n",
       "      <th></th>\n",
       "      <th></th>\n",
       "      <th></th>\n",
       "      <th></th>\n",
       "    </tr>\n",
       "  </thead>\n",
       "  <tbody>\n",
       "    <tr>\n",
       "      <th>2022-11-16</th>\n",
       "      <td>16960.294922</td>\n",
       "      <td>16430.111328</td>\n",
       "      <td>16884.341797</td>\n",
       "      <td>16669.439453</td>\n",
       "      <td>33925512989</td>\n",
       "      <td>16669.439453</td>\n",
       "    </tr>\n",
       "    <tr>\n",
       "      <th>2022-11-17</th>\n",
       "      <td>16726.439453</td>\n",
       "      <td>16460.683594</td>\n",
       "      <td>16670.425781</td>\n",
       "      <td>16687.517578</td>\n",
       "      <td>27868914022</td>\n",
       "      <td>16687.517578</td>\n",
       "    </tr>\n",
       "    <tr>\n",
       "      <th>2022-11-18</th>\n",
       "      <td>16947.058594</td>\n",
       "      <td>16564.611328</td>\n",
       "      <td>16687.912109</td>\n",
       "      <td>16697.777344</td>\n",
       "      <td>26862218609</td>\n",
       "      <td>16697.777344</td>\n",
       "    </tr>\n",
       "  </tbody>\n",
       "</table>\n",
       "</div>"
      ],
      "text/plain": [
       "                btc_high       btc_low      btc_open     btc_close  \\\n",
       "Date                                                                 \n",
       "2022-11-16  16960.294922  16430.111328  16884.341797  16669.439453   \n",
       "2022-11-17  16726.439453  16460.683594  16670.425781  16687.517578   \n",
       "2022-11-18  16947.058594  16564.611328  16687.912109  16697.777344   \n",
       "\n",
       "             btc_volume           btc  \n",
       "Date                                   \n",
       "2022-11-16  33925512989  16669.439453  \n",
       "2022-11-17  27868914022  16687.517578  \n",
       "2022-11-18  26862218609  16697.777344  "
      ]
     },
     "execution_count": 11,
     "metadata": {},
     "output_type": "execute_result"
    }
   ],
   "source": [
    "btc.tail(3)"
   ]
  },
  {
   "cell_type": "markdown",
   "metadata": {},
   "source": [
    "A base histórica de bitcoins tem 1828 registros e 6 colunas, com seu histórico completo no período selecionado."
   ]
  },
  {
   "cell_type": "markdown",
   "metadata": {},
   "source": [
    "### 2.2. Yahoo - Outras criptomoedas + Indices Americanos"
   ]
  },
  {
   "cell_type": "code",
   "execution_count": 12,
   "metadata": {
    "ExecuteTime": {
     "end_time": "2022-06-06T00:01:47.876696Z",
     "start_time": "2022-06-06T00:01:47.862204Z"
    }
   },
   "outputs": [],
   "source": [
    "tickers = ['USDT-USD', 'ETH-USD'] + [\"^NDXT\", '^GSPC', \"USDBRL=x\"] # criptos + indices\n",
    "ticker_names = ['usdt','eth', 'ndxt', 'sp500', 'usd']"
   ]
  },
  {
   "cell_type": "code",
   "execution_count": 13,
   "metadata": {
    "ExecuteTime": {
     "end_time": "2022-06-06T00:01:52.370523Z",
     "start_time": "2022-06-06T00:01:47.878652Z"
    }
   },
   "outputs": [],
   "source": [
    "df_yahoo = web.get_data_yahoo(tickers, start=periodo[0], end=periodo[1])[\"Adj Close\"]\n",
    "df_yahoo.columns=ticker_names"
   ]
  },
  {
   "cell_type": "code",
   "execution_count": 14,
   "metadata": {
    "ExecuteTime": {
     "end_time": "2022-06-06T00:01:52.386072Z",
     "start_time": "2022-06-06T00:01:52.371529Z"
    }
   },
   "outputs": [
    {
     "data": {
      "text/html": [
       "<div>\n",
       "<style scoped>\n",
       "    .dataframe tbody tr th:only-of-type {\n",
       "        vertical-align: middle;\n",
       "    }\n",
       "\n",
       "    .dataframe tbody tr th {\n",
       "        vertical-align: top;\n",
       "    }\n",
       "\n",
       "    .dataframe thead th {\n",
       "        text-align: right;\n",
       "    }\n",
       "</style>\n",
       "<table border=\"1\" class=\"dataframe\">\n",
       "  <thead>\n",
       "    <tr style=\"text-align: right;\">\n",
       "      <th></th>\n",
       "      <th>usdt</th>\n",
       "      <th>eth</th>\n",
       "      <th>ndxt</th>\n",
       "      <th>sp500</th>\n",
       "      <th>usd</th>\n",
       "    </tr>\n",
       "    <tr>\n",
       "      <th>Date</th>\n",
       "      <th></th>\n",
       "      <th></th>\n",
       "      <th></th>\n",
       "      <th></th>\n",
       "      <th></th>\n",
       "    </tr>\n",
       "  </thead>\n",
       "  <tbody>\n",
       "    <tr>\n",
       "      <th>2017-11-17</th>\n",
       "      <td>1.00139</td>\n",
       "      <td>332.394012</td>\n",
       "      <td>4031.629883</td>\n",
       "      <td>2578.850098</td>\n",
       "      <td>3.2706</td>\n",
       "    </tr>\n",
       "    <tr>\n",
       "      <th>2017-11-18</th>\n",
       "      <td>1.00231</td>\n",
       "      <td>347.612000</td>\n",
       "      <td>NaN</td>\n",
       "      <td>NaN</td>\n",
       "      <td>NaN</td>\n",
       "    </tr>\n",
       "    <tr>\n",
       "      <th>2017-11-19</th>\n",
       "      <td>1.00244</td>\n",
       "      <td>354.385986</td>\n",
       "      <td>NaN</td>\n",
       "      <td>NaN</td>\n",
       "      <td>NaN</td>\n",
       "    </tr>\n",
       "  </tbody>\n",
       "</table>\n",
       "</div>"
      ],
      "text/plain": [
       "               usdt         eth         ndxt        sp500     usd\n",
       "Date                                                             \n",
       "2017-11-17  1.00139  332.394012  4031.629883  2578.850098  3.2706\n",
       "2017-11-18  1.00231  347.612000          NaN          NaN     NaN\n",
       "2017-11-19  1.00244  354.385986          NaN          NaN     NaN"
      ]
     },
     "execution_count": 14,
     "metadata": {},
     "output_type": "execute_result"
    }
   ],
   "source": [
    "df_yahoo.head(3)"
   ]
  },
  {
   "cell_type": "code",
   "execution_count": 15,
   "metadata": {},
   "outputs": [
    {
     "data": {
      "text/html": [
       "<div>\n",
       "<style scoped>\n",
       "    .dataframe tbody tr th:only-of-type {\n",
       "        vertical-align: middle;\n",
       "    }\n",
       "\n",
       "    .dataframe tbody tr th {\n",
       "        vertical-align: top;\n",
       "    }\n",
       "\n",
       "    .dataframe thead th {\n",
       "        text-align: right;\n",
       "    }\n",
       "</style>\n",
       "<table border=\"1\" class=\"dataframe\">\n",
       "  <thead>\n",
       "    <tr style=\"text-align: right;\">\n",
       "      <th></th>\n",
       "      <th>usdt</th>\n",
       "      <th>eth</th>\n",
       "      <th>ndxt</th>\n",
       "      <th>sp500</th>\n",
       "      <th>usd</th>\n",
       "    </tr>\n",
       "    <tr>\n",
       "      <th>Date</th>\n",
       "      <th></th>\n",
       "      <th></th>\n",
       "      <th></th>\n",
       "      <th></th>\n",
       "      <th></th>\n",
       "    </tr>\n",
       "  </thead>\n",
       "  <tbody>\n",
       "    <tr>\n",
       "      <th>2022-11-17</th>\n",
       "      <td>0.999402</td>\n",
       "      <td>1200.808594</td>\n",
       "      <td>6078.709961</td>\n",
       "      <td>3946.560059</td>\n",
       "      <td>5.3990</td>\n",
       "    </tr>\n",
       "    <tr>\n",
       "      <th>2022-11-18</th>\n",
       "      <td>0.999163</td>\n",
       "      <td>1212.300293</td>\n",
       "      <td>NaN</td>\n",
       "      <td>NaN</td>\n",
       "      <td>5.4221</td>\n",
       "    </tr>\n",
       "    <tr>\n",
       "      <th>2022-11-19</th>\n",
       "      <td>NaN</td>\n",
       "      <td>NaN</td>\n",
       "      <td>NaN</td>\n",
       "      <td>NaN</td>\n",
       "      <td>5.3827</td>\n",
       "    </tr>\n",
       "  </tbody>\n",
       "</table>\n",
       "</div>"
      ],
      "text/plain": [
       "                usdt          eth         ndxt        sp500     usd\n",
       "Date                                                               \n",
       "2022-11-17  0.999402  1200.808594  6078.709961  3946.560059  5.3990\n",
       "2022-11-18  0.999163  1212.300293          NaN          NaN  5.4221\n",
       "2022-11-19       NaN          NaN          NaN          NaN  5.3827"
      ]
     },
     "execution_count": 15,
     "metadata": {},
     "output_type": "execute_result"
    }
   ],
   "source": [
    "df_yahoo.tail(3)"
   ]
  },
  {
   "cell_type": "markdown",
   "metadata": {},
   "source": [
    "Para essa base, o dado é diário mas já observamos coletas faltantes que devem ser tratadas posteriormente.\n",
    "Observa-se também que o filtro de data final da função não funciona muito bem, mas o caso será tratado posteriormente para todas as bases, pois o problema está na função (outros testes foram feitos)."
   ]
  },
  {
   "cell_type": "code",
   "execution_count": 16,
   "metadata": {},
   "outputs": [
    {
     "data": {
      "text/html": [
       "<div>\n",
       "<style scoped>\n",
       "    .dataframe tbody tr th:only-of-type {\n",
       "        vertical-align: middle;\n",
       "    }\n",
       "\n",
       "    .dataframe tbody tr th {\n",
       "        vertical-align: top;\n",
       "    }\n",
       "\n",
       "    .dataframe thead th {\n",
       "        text-align: right;\n",
       "    }\n",
       "</style>\n",
       "<table border=\"1\" class=\"dataframe\">\n",
       "  <thead>\n",
       "    <tr style=\"text-align: right;\">\n",
       "      <th></th>\n",
       "      <th>usdt</th>\n",
       "      <th>eth</th>\n",
       "      <th>ndxt</th>\n",
       "      <th>sp500</th>\n",
       "      <th>usd</th>\n",
       "    </tr>\n",
       "  </thead>\n",
       "  <tbody>\n",
       "    <tr>\n",
       "      <th>count</th>\n",
       "      <td>1828.000000</td>\n",
       "      <td>1828.000000</td>\n",
       "      <td>1259.000000</td>\n",
       "      <td>1259.000000</td>\n",
       "      <td>1306.000000</td>\n",
       "    </tr>\n",
       "    <tr>\n",
       "      <th>mean</th>\n",
       "      <td>1.001591</td>\n",
       "      <td>1131.236136</td>\n",
       "      <td>6021.373109</td>\n",
       "      <td>3420.030182</td>\n",
       "      <td>4.613303</td>\n",
       "    </tr>\n",
       "    <tr>\n",
       "      <th>std</th>\n",
       "      <td>0.005766</td>\n",
       "      <td>1203.097282</td>\n",
       "      <td>1748.625487</td>\n",
       "      <td>675.156441</td>\n",
       "      <td>0.796489</td>\n",
       "    </tr>\n",
       "    <tr>\n",
       "      <th>min</th>\n",
       "      <td>0.966644</td>\n",
       "      <td>84.308296</td>\n",
       "      <td>3457.919922</td>\n",
       "      <td>2237.399902</td>\n",
       "      <td>3.145100</td>\n",
       "    </tr>\n",
       "    <tr>\n",
       "      <th>25%</th>\n",
       "      <td>0.999982</td>\n",
       "      <td>209.034111</td>\n",
       "      <td>4393.555176</td>\n",
       "      <td>2821.954956</td>\n",
       "      <td>3.865525</td>\n",
       "    </tr>\n",
       "    <tr>\n",
       "      <th>50%</th>\n",
       "      <td>1.000500</td>\n",
       "      <td>478.433487</td>\n",
       "      <td>5643.189941</td>\n",
       "      <td>3224.729980</td>\n",
       "      <td>4.932600</td>\n",
       "    </tr>\n",
       "    <tr>\n",
       "      <th>75%</th>\n",
       "      <td>1.002497</td>\n",
       "      <td>1802.185455</td>\n",
       "      <td>7543.064941</td>\n",
       "      <td>4018.845093</td>\n",
       "      <td>5.323050</td>\n",
       "    </tr>\n",
       "    <tr>\n",
       "      <th>max</th>\n",
       "      <td>1.077880</td>\n",
       "      <td>4812.087402</td>\n",
       "      <td>9855.419922</td>\n",
       "      <td>4796.560059</td>\n",
       "      <td>5.886400</td>\n",
       "    </tr>\n",
       "  </tbody>\n",
       "</table>\n",
       "</div>"
      ],
      "text/plain": [
       "              usdt          eth         ndxt        sp500          usd\n",
       "count  1828.000000  1828.000000  1259.000000  1259.000000  1306.000000\n",
       "mean      1.001591  1131.236136  6021.373109  3420.030182     4.613303\n",
       "std       0.005766  1203.097282  1748.625487   675.156441     0.796489\n",
       "min       0.966644    84.308296  3457.919922  2237.399902     3.145100\n",
       "25%       0.999982   209.034111  4393.555176  2821.954956     3.865525\n",
       "50%       1.000500   478.433487  5643.189941  3224.729980     4.932600\n",
       "75%       1.002497  1802.185455  7543.064941  4018.845093     5.323050\n",
       "max       1.077880  4812.087402  9855.419922  4796.560059     5.886400"
      ]
     },
     "execution_count": 16,
     "metadata": {},
     "output_type": "execute_result"
    }
   ],
   "source": [
    "df_yahoo.describe()"
   ]
  },
  {
   "cell_type": "markdown",
   "metadata": {
    "tags": []
   },
   "source": [
    "### 2.3. Pytrends - interesse ao longo do tempo"
   ]
  },
  {
   "cell_type": "code",
   "execution_count": 17,
   "metadata": {
    "ExecuteTime": {
     "end_time": "2022-06-06T00:01:47.861141Z",
     "start_time": "2022-06-06T00:01:44.692817Z"
    }
   },
   "outputs": [],
   "source": [
    "# Conexão com google\n",
    "bittrends = TrendReq(hl='en-US', tz=360) \n",
    "\n",
    "# Puxando dados\n",
    "bittrends.build_payload(['bitcoin'], cat=0, timeframe=\" \".join(periodo.astype(str)), geo='') \n",
    "btc_iot = bittrends.interest_over_time() \n",
    "\n",
    "# Filtro \n",
    "btc_iot = btc_iot[~btc_iot['isPartial']]\n",
    "\n",
    "# Ajustando colunas\n",
    "btc_iot.index.names=['Date']\n",
    "btc_iot = btc_iot.rename(columns={'bitcoin':'iot'}).drop(columns=['isPartial'])"
   ]
  },
  {
   "cell_type": "code",
   "execution_count": 18,
   "metadata": {},
   "outputs": [
    {
     "data": {
      "text/html": [
       "<div>\n",
       "<style scoped>\n",
       "    .dataframe tbody tr th:only-of-type {\n",
       "        vertical-align: middle;\n",
       "    }\n",
       "\n",
       "    .dataframe tbody tr th {\n",
       "        vertical-align: top;\n",
       "    }\n",
       "\n",
       "    .dataframe thead th {\n",
       "        text-align: right;\n",
       "    }\n",
       "</style>\n",
       "<table border=\"1\" class=\"dataframe\">\n",
       "  <thead>\n",
       "    <tr style=\"text-align: right;\">\n",
       "      <th></th>\n",
       "      <th>iot</th>\n",
       "    </tr>\n",
       "    <tr>\n",
       "      <th>Date</th>\n",
       "      <th></th>\n",
       "    </tr>\n",
       "  </thead>\n",
       "  <tbody>\n",
       "    <tr>\n",
       "      <th>2017-11-19</th>\n",
       "      <td>28</td>\n",
       "    </tr>\n",
       "    <tr>\n",
       "      <th>2017-11-26</th>\n",
       "      <td>66</td>\n",
       "    </tr>\n",
       "    <tr>\n",
       "      <th>2017-12-03</th>\n",
       "      <td>89</td>\n",
       "    </tr>\n",
       "  </tbody>\n",
       "</table>\n",
       "</div>"
      ],
      "text/plain": [
       "            iot\n",
       "Date           \n",
       "2017-11-19   28\n",
       "2017-11-26   66\n",
       "2017-12-03   89"
      ]
     },
     "execution_count": 18,
     "metadata": {},
     "output_type": "execute_result"
    }
   ],
   "source": [
    "btc_iot.head(3)"
   ]
  },
  {
   "cell_type": "code",
   "execution_count": 19,
   "metadata": {},
   "outputs": [
    {
     "data": {
      "text/html": [
       "<div>\n",
       "<style scoped>\n",
       "    .dataframe tbody tr th:only-of-type {\n",
       "        vertical-align: middle;\n",
       "    }\n",
       "\n",
       "    .dataframe tbody tr th {\n",
       "        vertical-align: top;\n",
       "    }\n",
       "\n",
       "    .dataframe thead th {\n",
       "        text-align: right;\n",
       "    }\n",
       "</style>\n",
       "<table border=\"1\" class=\"dataframe\">\n",
       "  <thead>\n",
       "    <tr style=\"text-align: right;\">\n",
       "      <th></th>\n",
       "      <th>iot</th>\n",
       "    </tr>\n",
       "    <tr>\n",
       "      <th>Date</th>\n",
       "      <th></th>\n",
       "    </tr>\n",
       "  </thead>\n",
       "  <tbody>\n",
       "    <tr>\n",
       "      <th>2022-10-23</th>\n",
       "      <td>13</td>\n",
       "    </tr>\n",
       "    <tr>\n",
       "      <th>2022-10-30</th>\n",
       "      <td>14</td>\n",
       "    </tr>\n",
       "    <tr>\n",
       "      <th>2022-11-06</th>\n",
       "      <td>26</td>\n",
       "    </tr>\n",
       "  </tbody>\n",
       "</table>\n",
       "</div>"
      ],
      "text/plain": [
       "            iot\n",
       "Date           \n",
       "2022-10-23   13\n",
       "2022-10-30   14\n",
       "2022-11-06   26"
      ]
     },
     "execution_count": 19,
     "metadata": {},
     "output_type": "execute_result"
    }
   ],
   "source": [
    "btc_iot.tail(3)"
   ]
  },
  {
   "cell_type": "markdown",
   "metadata": {},
   "source": [
    "A base de interesses de pesquisa é semanal, portanto deverá ser preenchida seguindo alguma estratégia para ter periodicidade diária. Também percebe-se que a atualização é mais demorada desses dados, apesar da data máxima ser 17/11, a última atualização é 06/11, o que pode prejudicar uma previsão diária."
   ]
  },
  {
   "cell_type": "markdown",
   "metadata": {},
   "source": [
    "### 2.4. Hash rate"
   ]
  },
  {
   "cell_type": "markdown",
   "metadata": {},
   "source": [
    "Fonte: https://data.nasdaq.com/"
   ]
  },
  {
   "cell_type": "code",
   "execution_count": 20,
   "metadata": {},
   "outputs": [],
   "source": [
    "hash_rate = nasdaqdatalink.get('BCHAIN/HRATE', start_date=periodo[0], end_date=periodo[1])\n",
    "hash_rate = hash_rate.rename(columns={'Value':'hash_rate'})"
   ]
  },
  {
   "cell_type": "code",
   "execution_count": 21,
   "metadata": {
    "ExecuteTime": {
     "end_time": "2022-06-06T00:01:52.489304Z",
     "start_time": "2022-06-06T00:01:52.467321Z"
    }
   },
   "outputs": [
    {
     "data": {
      "text/html": [
       "<div>\n",
       "<style scoped>\n",
       "    .dataframe tbody tr th:only-of-type {\n",
       "        vertical-align: middle;\n",
       "    }\n",
       "\n",
       "    .dataframe tbody tr th {\n",
       "        vertical-align: top;\n",
       "    }\n",
       "\n",
       "    .dataframe thead th {\n",
       "        text-align: right;\n",
       "    }\n",
       "</style>\n",
       "<table border=\"1\" class=\"dataframe\">\n",
       "  <thead>\n",
       "    <tr style=\"text-align: right;\">\n",
       "      <th></th>\n",
       "      <th>hash_rate</th>\n",
       "    </tr>\n",
       "    <tr>\n",
       "      <th>Date</th>\n",
       "      <th></th>\n",
       "    </tr>\n",
       "  </thead>\n",
       "  <tbody>\n",
       "    <tr>\n",
       "      <th>2017-11-17</th>\n",
       "      <td>1.132691e+07</td>\n",
       "    </tr>\n",
       "    <tr>\n",
       "      <th>2017-11-18</th>\n",
       "      <td>9.224307e+06</td>\n",
       "    </tr>\n",
       "    <tr>\n",
       "      <th>2017-11-19</th>\n",
       "      <td>1.085213e+07</td>\n",
       "    </tr>\n",
       "  </tbody>\n",
       "</table>\n",
       "</div>"
      ],
      "text/plain": [
       "               hash_rate\n",
       "Date                    \n",
       "2017-11-17  1.132691e+07\n",
       "2017-11-18  9.224307e+06\n",
       "2017-11-19  1.085213e+07"
      ]
     },
     "execution_count": 21,
     "metadata": {},
     "output_type": "execute_result"
    }
   ],
   "source": [
    "hash_rate.head(3)"
   ]
  },
  {
   "cell_type": "code",
   "execution_count": 22,
   "metadata": {},
   "outputs": [
    {
     "data": {
      "text/html": [
       "<div>\n",
       "<style scoped>\n",
       "    .dataframe tbody tr th:only-of-type {\n",
       "        vertical-align: middle;\n",
       "    }\n",
       "\n",
       "    .dataframe tbody tr th {\n",
       "        vertical-align: top;\n",
       "    }\n",
       "\n",
       "    .dataframe thead th {\n",
       "        text-align: right;\n",
       "    }\n",
       "</style>\n",
       "<table border=\"1\" class=\"dataframe\">\n",
       "  <thead>\n",
       "    <tr style=\"text-align: right;\">\n",
       "      <th></th>\n",
       "      <th>hash_rate</th>\n",
       "    </tr>\n",
       "    <tr>\n",
       "      <th>Date</th>\n",
       "      <th></th>\n",
       "    </tr>\n",
       "  </thead>\n",
       "  <tbody>\n",
       "    <tr>\n",
       "      <th>2022-11-15</th>\n",
       "      <td>2.832561e+08</td>\n",
       "    </tr>\n",
       "    <tr>\n",
       "      <th>2022-11-16</th>\n",
       "      <td>2.741188e+08</td>\n",
       "    </tr>\n",
       "    <tr>\n",
       "      <th>2022-11-17</th>\n",
       "      <td>2.521893e+08</td>\n",
       "    </tr>\n",
       "  </tbody>\n",
       "</table>\n",
       "</div>"
      ],
      "text/plain": [
       "               hash_rate\n",
       "Date                    \n",
       "2022-11-15  2.832561e+08\n",
       "2022-11-16  2.741188e+08\n",
       "2022-11-17  2.521893e+08"
      ]
     },
     "execution_count": 22,
     "metadata": {},
     "output_type": "execute_result"
    }
   ],
   "source": [
    "hash_rate.tail(3)"
   ]
  },
  {
   "cell_type": "markdown",
   "metadata": {},
   "source": [
    "Os dados parecem ser estruturados e estarem corretos."
   ]
  },
  {
   "cell_type": "markdown",
   "metadata": {
    "tags": []
   },
   "source": [
    "--------------\n",
    "\n",
    "## 3. Unificação das bases"
   ]
  },
  {
   "cell_type": "code",
   "execution_count": 23,
   "metadata": {
    "ExecuteTime": {
     "end_time": "2022-06-06T00:01:52.616402Z",
     "start_time": "2022-06-06T00:01:52.602358Z"
    }
   },
   "outputs": [],
   "source": [
    "df_list = [btc, df_yahoo, btc_iot, hash_rate]"
   ]
  },
  {
   "cell_type": "markdown",
   "metadata": {},
   "source": [
    "Ajuste de index para o join"
   ]
  },
  {
   "cell_type": "code",
   "execution_count": 24,
   "metadata": {
    "ExecuteTime": {
     "end_time": "2022-06-06T00:01:52.646734Z",
     "start_time": "2022-06-06T00:01:52.617318Z"
    }
   },
   "outputs": [],
   "source": [
    "df_concat = []\n",
    "for df in df_list:\n",
    "    # Ajuste de index para o join\n",
    "    df.index = pd.to_datetime(df.index, format='%Y-%m-%d %H:%M:%S')\n",
    "    \n",
    "    # Filtro de datas\n",
    "    df = df.loc[(df.index>=periodo[0]) & (df.index<=periodo[1])]\n",
    "    \n",
    "    df_concat.append(df)"
   ]
  },
  {
   "cell_type": "code",
   "execution_count": 25,
   "metadata": {
    "ExecuteTime": {
     "end_time": "2022-06-06T00:01:52.672921Z",
     "start_time": "2022-06-06T00:01:52.648159Z"
    },
    "run_control": {
     "marked": true
    }
   },
   "outputs": [],
   "source": [
    "df_all = pd.concat(df_concat, axis=1)"
   ]
  },
  {
   "cell_type": "code",
   "execution_count": 26,
   "metadata": {
    "ExecuteTime": {
     "end_time": "2022-06-06T00:01:52.702479Z",
     "start_time": "2022-06-06T00:01:52.674914Z"
    }
   },
   "outputs": [
    {
     "data": {
      "text/html": [
       "<div>\n",
       "<style scoped>\n",
       "    .dataframe tbody tr th:only-of-type {\n",
       "        vertical-align: middle;\n",
       "    }\n",
       "\n",
       "    .dataframe tbody tr th {\n",
       "        vertical-align: top;\n",
       "    }\n",
       "\n",
       "    .dataframe thead th {\n",
       "        text-align: right;\n",
       "    }\n",
       "</style>\n",
       "<table border=\"1\" class=\"dataframe\">\n",
       "  <thead>\n",
       "    <tr style=\"text-align: right;\">\n",
       "      <th></th>\n",
       "      <th>btc_high</th>\n",
       "      <th>btc_low</th>\n",
       "      <th>btc_open</th>\n",
       "      <th>btc_close</th>\n",
       "      <th>btc_volume</th>\n",
       "      <th>btc</th>\n",
       "      <th>usdt</th>\n",
       "      <th>eth</th>\n",
       "      <th>ndxt</th>\n",
       "      <th>sp500</th>\n",
       "      <th>usd</th>\n",
       "      <th>iot</th>\n",
       "      <th>hash_rate</th>\n",
       "    </tr>\n",
       "    <tr>\n",
       "      <th>Date</th>\n",
       "      <th></th>\n",
       "      <th></th>\n",
       "      <th></th>\n",
       "      <th></th>\n",
       "      <th></th>\n",
       "      <th></th>\n",
       "      <th></th>\n",
       "      <th></th>\n",
       "      <th></th>\n",
       "      <th></th>\n",
       "      <th></th>\n",
       "      <th></th>\n",
       "      <th></th>\n",
       "    </tr>\n",
       "  </thead>\n",
       "  <tbody>\n",
       "    <tr>\n",
       "      <th>2017-11-17</th>\n",
       "      <td>8004.589844</td>\n",
       "      <td>7561.089844</td>\n",
       "      <td>7853.569824</td>\n",
       "      <td>7708.990234</td>\n",
       "      <td>4651670016</td>\n",
       "      <td>7708.990234</td>\n",
       "      <td>1.00139</td>\n",
       "      <td>332.394012</td>\n",
       "      <td>4031.629883</td>\n",
       "      <td>2578.850098</td>\n",
       "      <td>3.2706</td>\n",
       "      <td>NaN</td>\n",
       "      <td>1.132691e+07</td>\n",
       "    </tr>\n",
       "    <tr>\n",
       "      <th>2017-11-18</th>\n",
       "      <td>7884.990234</td>\n",
       "      <td>7463.439941</td>\n",
       "      <td>7697.209961</td>\n",
       "      <td>7790.149902</td>\n",
       "      <td>3667190016</td>\n",
       "      <td>7790.149902</td>\n",
       "      <td>1.00231</td>\n",
       "      <td>347.612000</td>\n",
       "      <td>NaN</td>\n",
       "      <td>NaN</td>\n",
       "      <td>NaN</td>\n",
       "      <td>NaN</td>\n",
       "      <td>9.224307e+06</td>\n",
       "    </tr>\n",
       "    <tr>\n",
       "      <th>2017-11-19</th>\n",
       "      <td>8101.910156</td>\n",
       "      <td>7694.100098</td>\n",
       "      <td>7766.029785</td>\n",
       "      <td>8036.490234</td>\n",
       "      <td>3149319936</td>\n",
       "      <td>8036.490234</td>\n",
       "      <td>1.00244</td>\n",
       "      <td>354.385986</td>\n",
       "      <td>NaN</td>\n",
       "      <td>NaN</td>\n",
       "      <td>NaN</td>\n",
       "      <td>28.0</td>\n",
       "      <td>1.085213e+07</td>\n",
       "    </tr>\n",
       "  </tbody>\n",
       "</table>\n",
       "</div>"
      ],
      "text/plain": [
       "               btc_high      btc_low     btc_open    btc_close  btc_volume  \\\n",
       "Date                                                                         \n",
       "2017-11-17  8004.589844  7561.089844  7853.569824  7708.990234  4651670016   \n",
       "2017-11-18  7884.990234  7463.439941  7697.209961  7790.149902  3667190016   \n",
       "2017-11-19  8101.910156  7694.100098  7766.029785  8036.490234  3149319936   \n",
       "\n",
       "                    btc     usdt         eth         ndxt        sp500  \\\n",
       "Date                                                                     \n",
       "2017-11-17  7708.990234  1.00139  332.394012  4031.629883  2578.850098   \n",
       "2017-11-18  7790.149902  1.00231  347.612000          NaN          NaN   \n",
       "2017-11-19  8036.490234  1.00244  354.385986          NaN          NaN   \n",
       "\n",
       "               usd   iot     hash_rate  \n",
       "Date                                    \n",
       "2017-11-17  3.2706   NaN  1.132691e+07  \n",
       "2017-11-18     NaN   NaN  9.224307e+06  \n",
       "2017-11-19     NaN  28.0  1.085213e+07  "
      ]
     },
     "execution_count": 26,
     "metadata": {},
     "output_type": "execute_result"
    }
   ],
   "source": [
    "df_all.head(3)"
   ]
  },
  {
   "cell_type": "code",
   "execution_count": 27,
   "metadata": {
    "ExecuteTime": {
     "end_time": "2022-06-06T00:01:52.733753Z",
     "start_time": "2022-06-06T00:01:52.703875Z"
    }
   },
   "outputs": [
    {
     "data": {
      "text/html": [
       "<div>\n",
       "<style scoped>\n",
       "    .dataframe tbody tr th:only-of-type {\n",
       "        vertical-align: middle;\n",
       "    }\n",
       "\n",
       "    .dataframe tbody tr th {\n",
       "        vertical-align: top;\n",
       "    }\n",
       "\n",
       "    .dataframe thead th {\n",
       "        text-align: right;\n",
       "    }\n",
       "</style>\n",
       "<table border=\"1\" class=\"dataframe\">\n",
       "  <thead>\n",
       "    <tr style=\"text-align: right;\">\n",
       "      <th></th>\n",
       "      <th>btc_high</th>\n",
       "      <th>btc_low</th>\n",
       "      <th>btc_open</th>\n",
       "      <th>btc_close</th>\n",
       "      <th>btc_volume</th>\n",
       "      <th>btc</th>\n",
       "      <th>usdt</th>\n",
       "      <th>eth</th>\n",
       "      <th>ndxt</th>\n",
       "      <th>sp500</th>\n",
       "      <th>usd</th>\n",
       "      <th>iot</th>\n",
       "      <th>hash_rate</th>\n",
       "    </tr>\n",
       "    <tr>\n",
       "      <th>Date</th>\n",
       "      <th></th>\n",
       "      <th></th>\n",
       "      <th></th>\n",
       "      <th></th>\n",
       "      <th></th>\n",
       "      <th></th>\n",
       "      <th></th>\n",
       "      <th></th>\n",
       "      <th></th>\n",
       "      <th></th>\n",
       "      <th></th>\n",
       "      <th></th>\n",
       "      <th></th>\n",
       "    </tr>\n",
       "  </thead>\n",
       "  <tbody>\n",
       "    <tr>\n",
       "      <th>2022-11-15</th>\n",
       "      <td>17051.962891</td>\n",
       "      <td>16542.550781</td>\n",
       "      <td>16617.484375</td>\n",
       "      <td>16884.613281</td>\n",
       "      <td>36599436183</td>\n",
       "      <td>16884.613281</td>\n",
       "      <td>0.999130</td>\n",
       "      <td>1251.736206</td>\n",
       "      <td>6344.140137</td>\n",
       "      <td>3991.729980</td>\n",
       "      <td>5.3312</td>\n",
       "      <td>NaN</td>\n",
       "      <td>2.832561e+08</td>\n",
       "    </tr>\n",
       "    <tr>\n",
       "      <th>2022-11-16</th>\n",
       "      <td>16960.294922</td>\n",
       "      <td>16430.111328</td>\n",
       "      <td>16884.341797</td>\n",
       "      <td>16669.439453</td>\n",
       "      <td>33925512989</td>\n",
       "      <td>16669.439453</td>\n",
       "      <td>0.999229</td>\n",
       "      <td>1215.602539</td>\n",
       "      <td>6121.200195</td>\n",
       "      <td>3958.790039</td>\n",
       "      <td>5.3317</td>\n",
       "      <td>NaN</td>\n",
       "      <td>2.741188e+08</td>\n",
       "    </tr>\n",
       "    <tr>\n",
       "      <th>2022-11-17</th>\n",
       "      <td>16726.439453</td>\n",
       "      <td>16460.683594</td>\n",
       "      <td>16670.425781</td>\n",
       "      <td>16687.517578</td>\n",
       "      <td>27868914022</td>\n",
       "      <td>16687.517578</td>\n",
       "      <td>0.999402</td>\n",
       "      <td>1200.808594</td>\n",
       "      <td>6078.709961</td>\n",
       "      <td>3946.560059</td>\n",
       "      <td>5.3990</td>\n",
       "      <td>NaN</td>\n",
       "      <td>2.521893e+08</td>\n",
       "    </tr>\n",
       "  </tbody>\n",
       "</table>\n",
       "</div>"
      ],
      "text/plain": [
       "                btc_high       btc_low      btc_open     btc_close  \\\n",
       "Date                                                                 \n",
       "2022-11-15  17051.962891  16542.550781  16617.484375  16884.613281   \n",
       "2022-11-16  16960.294922  16430.111328  16884.341797  16669.439453   \n",
       "2022-11-17  16726.439453  16460.683594  16670.425781  16687.517578   \n",
       "\n",
       "             btc_volume           btc      usdt          eth         ndxt  \\\n",
       "Date                                                                        \n",
       "2022-11-15  36599436183  16884.613281  0.999130  1251.736206  6344.140137   \n",
       "2022-11-16  33925512989  16669.439453  0.999229  1215.602539  6121.200195   \n",
       "2022-11-17  27868914022  16687.517578  0.999402  1200.808594  6078.709961   \n",
       "\n",
       "                  sp500     usd  iot     hash_rate  \n",
       "Date                                                \n",
       "2022-11-15  3991.729980  5.3312  NaN  2.832561e+08  \n",
       "2022-11-16  3958.790039  5.3317  NaN  2.741188e+08  \n",
       "2022-11-17  3946.560059  5.3990  NaN  2.521893e+08  "
      ]
     },
     "execution_count": 27,
     "metadata": {},
     "output_type": "execute_result"
    }
   ],
   "source": [
    "df_all.tail(3)"
   ]
  },
  {
   "cell_type": "markdown",
   "metadata": {},
   "source": [
    "Essa base será utilizada para estudos e modelagem, portanto, será salva no S3, no bucket raw, que serão os dados antes de realizar feature engineering e correções."
   ]
  },
  {
   "cell_type": "markdown",
   "metadata": {},
   "source": [
    "### 3.1. Formato de colunas"
   ]
  },
  {
   "cell_type": "code",
   "execution_count": 38,
   "metadata": {},
   "outputs": [
    {
     "name": "stdout",
     "output_type": "stream",
     "text": [
      "<class 'pandas.core.frame.DataFrame'>\n",
      "DatetimeIndex: 1827 entries, 2017-11-17 to 2022-11-17\n",
      "Freq: D\n",
      "Data columns (total 13 columns):\n",
      " #   Column      Non-Null Count  Dtype  \n",
      "---  ------      --------------  -----  \n",
      " 0   btc_high    1827 non-null   float64\n",
      " 1   btc_low     1827 non-null   float64\n",
      " 2   btc_open    1827 non-null   float64\n",
      " 3   btc_close   1827 non-null   float64\n",
      " 4   btc_volume  1827 non-null   int64  \n",
      " 5   btc         1827 non-null   float64\n",
      " 6   usdt        1827 non-null   float64\n",
      " 7   eth         1827 non-null   float64\n",
      " 8   ndxt        1259 non-null   float64\n",
      " 9   sp500       1259 non-null   float64\n",
      " 10  usd         1304 non-null   float64\n",
      " 11  iot         260 non-null    float64\n",
      " 12  hash_rate   1827 non-null   float64\n",
      "dtypes: float64(12), int64(1)\n",
      "memory usage: 264.4 KB\n"
     ]
    }
   ],
   "source": [
    "df_all.info()"
   ]
  },
  {
   "cell_type": "markdown",
   "metadata": {},
   "source": [
    "Conferência: Todas as colunas já são numéricas. A coluna de IOT, como esperado, é a que mais possui valores nulos, pois sua frequência é semanal, enquanto das demais é diária."
   ]
  },
  {
   "cell_type": "markdown",
   "metadata": {},
   "source": [
    "### 3.2. Correção de datas ausentes"
   ]
  },
  {
   "cell_type": "markdown",
   "metadata": {
    "tags": []
   },
   "source": [
    "Para ter certeza que não há datas faltando no dataframe, foi realizado o _reindex_ do dataframe de acordo com o intervalo de datas esperado."
   ]
  },
  {
   "cell_type": "code",
   "execution_count": 28,
   "metadata": {
    "ExecuteTime": {
     "end_time": "2022-06-06T00:01:52.769388Z",
     "start_time": "2022-06-06T00:01:52.735748Z"
    }
   },
   "outputs": [
    {
     "name": "stdout",
     "output_type": "stream",
     "text": [
      "(1827, 13)\n",
      "(1827, 13)\n"
     ]
    }
   ],
   "source": [
    "print(df_all.shape)\n",
    "\n",
    "# Para ter certeza que não há buracos no dataframe série\n",
    "df_all = df_all.apply(lambda group: group.reindex(pd.date_range(periodo[0], periodo[1], freq='D'), \n",
    "                                                  #method='nearest' - vou deixar o método default: none, para que não haja preenchimetnos inadequados\n",
    "                                                  )).sort_index()\n",
    "\n",
    "print(df_all.shape)"
   ]
  },
  {
   "cell_type": "code",
   "execution_count": 29,
   "metadata": {},
   "outputs": [
    {
     "data": {
      "text/html": [
       "<div>\n",
       "<style scoped>\n",
       "    .dataframe tbody tr th:only-of-type {\n",
       "        vertical-align: middle;\n",
       "    }\n",
       "\n",
       "    .dataframe tbody tr th {\n",
       "        vertical-align: top;\n",
       "    }\n",
       "\n",
       "    .dataframe thead th {\n",
       "        text-align: right;\n",
       "    }\n",
       "</style>\n",
       "<table border=\"1\" class=\"dataframe\">\n",
       "  <thead>\n",
       "    <tr style=\"text-align: right;\">\n",
       "      <th></th>\n",
       "      <th>btc_high</th>\n",
       "      <th>btc_low</th>\n",
       "      <th>btc_open</th>\n",
       "      <th>btc_close</th>\n",
       "      <th>btc_volume</th>\n",
       "      <th>btc</th>\n",
       "      <th>usdt</th>\n",
       "      <th>eth</th>\n",
       "      <th>ndxt</th>\n",
       "      <th>sp500</th>\n",
       "      <th>usd</th>\n",
       "      <th>iot</th>\n",
       "      <th>hash_rate</th>\n",
       "    </tr>\n",
       "  </thead>\n",
       "  <tbody>\n",
       "    <tr>\n",
       "      <th>count</th>\n",
       "      <td>1827.000000</td>\n",
       "      <td>1827.000000</td>\n",
       "      <td>1827.000000</td>\n",
       "      <td>1827.000000</td>\n",
       "      <td>1.827000e+03</td>\n",
       "      <td>1827.000000</td>\n",
       "      <td>1827.000000</td>\n",
       "      <td>1827.000000</td>\n",
       "      <td>1259.000000</td>\n",
       "      <td>1259.000000</td>\n",
       "      <td>1304.000000</td>\n",
       "      <td>260.000000</td>\n",
       "      <td>1.827000e+03</td>\n",
       "    </tr>\n",
       "    <tr>\n",
       "      <th>mean</th>\n",
       "      <td>20760.603587</td>\n",
       "      <td>19665.947578</td>\n",
       "      <td>20246.906348</td>\n",
       "      <td>20249.268044</td>\n",
       "      <td>2.637458e+10</td>\n",
       "      <td>20249.268044</td>\n",
       "      <td>1.001593</td>\n",
       "      <td>1131.191765</td>\n",
       "      <td>6021.373109</td>\n",
       "      <td>3420.030182</td>\n",
       "      <td>4.612093</td>\n",
       "      <td>21.296154</td>\n",
       "      <td>1.116821e+08</td>\n",
       "    </tr>\n",
       "    <tr>\n",
       "      <th>std</th>\n",
       "      <td>17464.880867</td>\n",
       "      <td>16512.579105</td>\n",
       "      <td>17024.947416</td>\n",
       "      <td>17018.145277</td>\n",
       "      <td>1.993908e+10</td>\n",
       "      <td>17018.145277</td>\n",
       "      <td>0.005768</td>\n",
       "      <td>1203.425176</td>\n",
       "      <td>1748.625487</td>\n",
       "      <td>675.156441</td>\n",
       "      <td>0.796499</td>\n",
       "      <td>15.437781</td>\n",
       "      <td>6.609720e+07</td>\n",
       "    </tr>\n",
       "    <tr>\n",
       "      <th>min</th>\n",
       "      <td>3275.377930</td>\n",
       "      <td>3191.303467</td>\n",
       "      <td>3236.274658</td>\n",
       "      <td>3236.761719</td>\n",
       "      <td>2.923670e+09</td>\n",
       "      <td>3236.761719</td>\n",
       "      <td>0.966644</td>\n",
       "      <td>84.308296</td>\n",
       "      <td>3457.919922</td>\n",
       "      <td>2237.399902</td>\n",
       "      <td>3.145100</td>\n",
       "      <td>6.000000</td>\n",
       "      <td>8.342572e+06</td>\n",
       "    </tr>\n",
       "    <tr>\n",
       "      <th>25%</th>\n",
       "      <td>7900.539551</td>\n",
       "      <td>7511.864746</td>\n",
       "      <td>7688.712402</td>\n",
       "      <td>7684.071777</td>\n",
       "      <td>1.108360e+10</td>\n",
       "      <td>7684.071777</td>\n",
       "      <td>0.999983</td>\n",
       "      <td>208.977219</td>\n",
       "      <td>4393.555176</td>\n",
       "      <td>2821.954956</td>\n",
       "      <td>3.865350</td>\n",
       "      <td>11.000000</td>\n",
       "      <td>4.857148e+07</td>\n",
       "    </tr>\n",
       "    <tr>\n",
       "      <th>50%</th>\n",
       "      <td>11089.799805</td>\n",
       "      <td>10516.417969</td>\n",
       "      <td>10818.156250</td>\n",
       "      <td>10821.726562</td>\n",
       "      <td>2.410343e+10</td>\n",
       "      <td>10821.726562</td>\n",
       "      <td>1.000500</td>\n",
       "      <td>477.493988</td>\n",
       "      <td>5643.189941</td>\n",
       "      <td>3224.729980</td>\n",
       "      <td>4.927400</td>\n",
       "      <td>16.000000</td>\n",
       "      <td>1.096787e+08</td>\n",
       "    </tr>\n",
       "    <tr>\n",
       "      <th>75%</th>\n",
       "      <td>34778.076172</td>\n",
       "      <td>32265.797852</td>\n",
       "      <td>33767.375000</td>\n",
       "      <td>33734.515625</td>\n",
       "      <td>3.577598e+10</td>\n",
       "      <td>33734.515625</td>\n",
       "      <td>1.002497</td>\n",
       "      <td>1802.761414</td>\n",
       "      <td>7543.064941</td>\n",
       "      <td>4018.845093</td>\n",
       "      <td>5.321700</td>\n",
       "      <td>27.000000</td>\n",
       "      <td>1.573418e+08</td>\n",
       "    </tr>\n",
       "    <tr>\n",
       "      <th>max</th>\n",
       "      <td>68789.625000</td>\n",
       "      <td>66382.062500</td>\n",
       "      <td>67549.734375</td>\n",
       "      <td>67566.828125</td>\n",
       "      <td>3.509679e+11</td>\n",
       "      <td>67566.828125</td>\n",
       "      <td>1.077880</td>\n",
       "      <td>4812.087402</td>\n",
       "      <td>9855.419922</td>\n",
       "      <td>4796.560059</td>\n",
       "      <td>5.886400</td>\n",
       "      <td>100.000000</td>\n",
       "      <td>3.167823e+08</td>\n",
       "    </tr>\n",
       "  </tbody>\n",
       "</table>\n",
       "</div>"
      ],
      "text/plain": [
       "           btc_high       btc_low      btc_open     btc_close    btc_volume  \\\n",
       "count   1827.000000   1827.000000   1827.000000   1827.000000  1.827000e+03   \n",
       "mean   20760.603587  19665.947578  20246.906348  20249.268044  2.637458e+10   \n",
       "std    17464.880867  16512.579105  17024.947416  17018.145277  1.993908e+10   \n",
       "min     3275.377930   3191.303467   3236.274658   3236.761719  2.923670e+09   \n",
       "25%     7900.539551   7511.864746   7688.712402   7684.071777  1.108360e+10   \n",
       "50%    11089.799805  10516.417969  10818.156250  10821.726562  2.410343e+10   \n",
       "75%    34778.076172  32265.797852  33767.375000  33734.515625  3.577598e+10   \n",
       "max    68789.625000  66382.062500  67549.734375  67566.828125  3.509679e+11   \n",
       "\n",
       "                btc         usdt          eth         ndxt        sp500  \\\n",
       "count   1827.000000  1827.000000  1827.000000  1259.000000  1259.000000   \n",
       "mean   20249.268044     1.001593  1131.191765  6021.373109  3420.030182   \n",
       "std    17018.145277     0.005768  1203.425176  1748.625487   675.156441   \n",
       "min     3236.761719     0.966644    84.308296  3457.919922  2237.399902   \n",
       "25%     7684.071777     0.999983   208.977219  4393.555176  2821.954956   \n",
       "50%    10821.726562     1.000500   477.493988  5643.189941  3224.729980   \n",
       "75%    33734.515625     1.002497  1802.761414  7543.064941  4018.845093   \n",
       "max    67566.828125     1.077880  4812.087402  9855.419922  4796.560059   \n",
       "\n",
       "               usd         iot     hash_rate  \n",
       "count  1304.000000  260.000000  1.827000e+03  \n",
       "mean      4.612093   21.296154  1.116821e+08  \n",
       "std       0.796499   15.437781  6.609720e+07  \n",
       "min       3.145100    6.000000  8.342572e+06  \n",
       "25%       3.865350   11.000000  4.857148e+07  \n",
       "50%       4.927400   16.000000  1.096787e+08  \n",
       "75%       5.321700   27.000000  1.573418e+08  \n",
       "max       5.886400  100.000000  3.167823e+08  "
      ]
     },
     "execution_count": 29,
     "metadata": {},
     "output_type": "execute_result"
    }
   ],
   "source": [
    "df_all.describe()"
   ]
  },
  {
   "cell_type": "markdown",
   "metadata": {},
   "source": [
    "Não havia buracos no dataframe concatenado, pois não houve mudança de tamanho.\n",
    "\n",
    "Agora toda a base está filtrada no período correto."
   ]
  },
  {
   "cell_type": "markdown",
   "metadata": {
    "tags": []
   },
   "source": [
    "### 3.2. Salvamento da base no S3"
   ]
  },
  {
   "cell_type": "markdown",
   "metadata": {},
   "source": [
    "Para o salvamento da base no s3, é preciso realizar a conexão com o bucket de destino."
   ]
  },
  {
   "cell_type": "code",
   "execution_count": 30,
   "metadata": {},
   "outputs": [],
   "source": [
    "import os, io, boto3"
   ]
  },
  {
   "cell_type": "code",
   "execution_count": 35,
   "metadata": {},
   "outputs": [],
   "source": [
    "s3_resource = boto3.Session().resource('s3')\n",
    "\n",
    "def upload_s3_csv(bucket, folder, filename, dataframe):\n",
    "    csv_buffer = io.StringIO()\n",
    "    dataframe.to_csv(csv_buffer, header=True, index=True)\n",
    "    s3_resource.Bucket(bucket).Object(os.path.join(folder, filename)).put(Body=csv_buffer.getvalue())"
   ]
  },
  {
   "cell_type": "code",
   "execution_count": 36,
   "metadata": {},
   "outputs": [],
   "source": [
    "upload_s3_csv(bucket = 'projetointerdisciplinars2'\n",
    "              , folder = 'data/raw'\n",
    "              , filename = 'df_btc_covars.csv'\n",
    "              , dataframe = df_all\n",
    "              , )"
   ]
  },
  {
   "cell_type": "code",
   "execution_count": 33,
   "metadata": {
    "ExecuteTime": {
     "end_time": "2022-06-04T20:38:38.919438Z",
     "start_time": "2022-06-04T20:38:17.745159Z"
    },
    "deletable": false,
    "editable": false,
    "id": "NHNqZLXPVNJ_",
    "run_control": {
     "frozen": true
    }
   },
   "outputs": [],
   "source": [
    "%%capture\n",
    "!pip install --upgrade pip\n",
    "!pip install --upgrade pandas\n",
    "!pip install --upgrade pandas-datareader\n",
    "!pip install cmasher\n",
    "!pip install pytrends"
   ]
  }
 ],
 "metadata": {
  "colab": {
   "authorship_tag": "ABX9TyNw3t79toto4jpHaByZXe5p",
   "collapsed_sections": [
    "pnqNjN9FWeqh",
    "bo-6NLRmqixk",
    "JxaEEIq7Wg0j",
    "zYHvts0wjTAU",
    "E4L52kBkm_n6",
    "4F70TpX9pYls",
    "kQ2NB3W7ySWC",
    "P6nPFrUe2FIH",
    "AUfa_OWj1FhJ"
   ],
   "include_colab_link": true,
   "name": "MODEL_yahoo_bitcoin.ipynb",
   "provenance": []
  },
  "kernelspec": {
   "display_name": "conda_amazonei_pytorch_latest_p37",
   "language": "python",
   "name": "conda_amazonei_pytorch_latest_p37"
  },
  "language_info": {
   "codemirror_mode": {
    "name": "ipython",
    "version": 3
   },
   "file_extension": ".py",
   "mimetype": "text/x-python",
   "name": "python",
   "nbconvert_exporter": "python",
   "pygments_lexer": "ipython3",
   "version": "3.7.12"
  },
  "toc": {
   "base_numbering": 1,
   "nav_menu": {},
   "number_sections": true,
   "sideBar": true,
   "skip_h1_title": false,
   "title_cell": "Table of Contents",
   "title_sidebar": "Contents",
   "toc_cell": false,
   "toc_position": {
    "height": "calc(100% - 180px)",
    "left": "10px",
    "top": "150px",
    "width": "384px"
   },
   "toc_section_display": true,
   "toc_window_display": true
  }
 },
 "nbformat": 4,
 "nbformat_minor": 4
}
